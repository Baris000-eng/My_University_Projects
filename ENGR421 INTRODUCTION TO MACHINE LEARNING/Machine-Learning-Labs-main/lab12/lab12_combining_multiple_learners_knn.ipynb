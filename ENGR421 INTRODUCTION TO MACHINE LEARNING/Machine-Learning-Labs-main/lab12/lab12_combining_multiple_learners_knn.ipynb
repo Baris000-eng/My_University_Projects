{
 "cells": [
  {
   "cell_type": "markdown",
   "metadata": {},
   "source": [
    "# Lab12: Combining Multiple Learners\n",
    "## Mehmet Gönen\n",
    "### December 28, 2021"
   ]
  },
  {
   "cell_type": "code",
   "execution_count": 1,
   "metadata": {},
   "outputs": [],
   "source": [
    "import matplotlib.pyplot as plt\n",
    "import numpy as np\n",
    "import scipy.spatial.distance as dt"
   ]
  },
  {
   "cell_type": "markdown",
   "metadata": {},
   "source": [
    "## Importing Data"
   ]
  },
  {
   "cell_type": "code",
   "execution_count": 2,
   "metadata": {},
   "outputs": [],
   "source": [
    "# read data into memory\n",
    "training_digits = np.genfromtxt(\"lab12_mnist_training_digits.csv\", delimiter = \",\")\n",
    "training_labels = np.genfromtxt(\"lab12_mnist_training_labels.csv\", delimiter = \",\")\n",
    "test_digits = np.genfromtxt(\"lab12_mnist_test_digits.csv\", delimiter = \",\")\n",
    "test_labels = np.genfromtxt(\"lab12_mnist_test_labels.csv\", delimiter = \",\")\n",
    "\n",
    "# get X and y values\n",
    "X_train = training_digits / 255\n",
    "y_train = training_labels.astype(int)\n",
    "X_test = test_digits / 255\n",
    "y_test = test_labels.astype(int)\n",
    "\n",
    "# get number of classes and number of features\n",
    "K = np.max(y_train)\n",
    "D = X_train.shape[1]"
   ]
  },
  {
   "cell_type": "markdown",
   "metadata": {},
   "source": [
    "## Construct an Ensemble by Training k-NN Classifiers on Feature Subsets"
   ]
  },
  {
   "cell_type": "code",
   "execution_count": 3,
   "metadata": {
    "scrolled": true
   },
   "outputs": [
    {
     "name": "stdout",
     "output_type": "stream",
     "text": [
      "training knn #1\n",
      "training knn #2\n",
      "training knn #3\n",
      "training knn #4\n",
      "training knn #5\n",
      "training knn #6\n",
      "training knn #7\n",
      "training knn #8\n",
      "training knn #9\n",
      "training knn #10\n",
      "training knn #11\n",
      "training knn #12\n",
      "training knn #13\n",
      "training knn #14\n",
      "training knn #15\n",
      "training knn #16\n",
      "training knn #17\n",
      "training knn #18\n",
      "training knn #19\n",
      "training knn #20\n",
      "training knn #21\n",
      "training knn #22\n",
      "training knn #23\n",
      "training knn #24\n",
      "training knn #25\n",
      "training knn #26\n",
      "training knn #27\n",
      "training knn #28\n",
      "training knn #29\n",
      "training knn #30\n",
      "training knn #31\n",
      "training knn #32\n",
      "training knn #33\n",
      "training knn #34\n",
      "training knn #35\n",
      "training knn #36\n",
      "training knn #37\n",
      "training knn #38\n",
      "training knn #39\n",
      "training knn #40\n",
      "training knn #41\n",
      "training knn #42\n",
      "training knn #43\n",
      "training knn #44\n",
      "training knn #45\n",
      "training knn #46\n",
      "training knn #47\n",
      "training knn #48\n",
      "training knn #49\n",
      "training knn #50\n",
      "training knn #51\n",
      "training knn #52\n",
      "training knn #53\n",
      "training knn #54\n",
      "training knn #55\n",
      "training knn #56\n",
      "training knn #57\n",
      "training knn #58\n",
      "training knn #59\n",
      "training knn #60\n",
      "training knn #61\n",
      "training knn #62\n",
      "training knn #63\n",
      "training knn #64\n",
      "training knn #65\n",
      "training knn #66\n",
      "training knn #67\n",
      "training knn #68\n",
      "training knn #69\n",
      "training knn #70\n",
      "training knn #71\n",
      "training knn #72\n",
      "training knn #73\n",
      "training knn #74\n",
      "training knn #75\n",
      "training knn #76\n",
      "training knn #77\n",
      "training knn #78\n",
      "training knn #79\n",
      "training knn #80\n",
      "training knn #81\n",
      "training knn #82\n",
      "training knn #83\n",
      "training knn #84\n",
      "training knn #85\n",
      "training knn #86\n",
      "training knn #87\n",
      "training knn #88\n",
      "training knn #89\n",
      "training knn #90\n",
      "training knn #91\n",
      "training knn #92\n",
      "training knn #93\n",
      "training knn #94\n",
      "training knn #95\n",
      "training knn #96\n",
      "training knn #97\n",
      "training knn #98\n",
      "training knn #99\n",
      "training knn #100\n"
     ]
    }
   ],
   "source": [
    "np.random.seed(421)\n",
    "ensemble_size = 100\n",
    "feature_subset_size = 75\n",
    "N_test = X_test.shape[0]\n",
    "k = 5\n",
    "\n",
    "predicted_probabilities = np.zeros((N_test, K, ensemble_size))\n",
    "for t in range(ensemble_size):\n",
    "    print(\"training knn #{0}\".format(t + 1))\n",
    "    selected_features = np.random.choice(range(D), size = feature_subset_size, replace = False)\n",
    "    distance_matrix = dt.cdist(X_test[:, selected_features], X_train[:, selected_features])\n",
    "    for c in range(K):\n",
    "        predicted_probabilities[:, c, t] = np.asarray([sum(y_train[np.argsort(distance_matrix[i, :])[range(k)]] == c + 1) for i in range(N_test)]) / k"
   ]
  },
  {
   "cell_type": "code",
   "execution_count": 4,
   "metadata": {},
   "outputs": [],
   "source": [
    "single_accuracies = np.zeros(ensemble_size)\n",
    "combined_accuracies = np.zeros(ensemble_size)\n",
    "for t in range(ensemble_size):\n",
    "    y_predicted = np.argmax(predicted_probabilities[:, :, t], axis = 1) + 1\n",
    "    single_accuracies[t] = np.mean(y_predicted == y_test)\n",
    "    prediction = np.mean(predicted_probabilities[:, :, range(t + 1)], axis = 2)\n",
    "    y_predicted = np.argmax(prediction, axis = 1) + 1\n",
    "    combined_accuracies[t] = np.mean(y_predicted == y_test)"
   ]
  },
  {
   "cell_type": "code",
   "execution_count": 5,
   "metadata": {},
   "outputs": [
    {
     "data": {
      "image/png": "[encoded data removed]",
      "text/plain": [
       "<Figure size 720x432 with 1 Axes>"
      ]
     },
     "metadata": {
      "needs_background": "light"
     },
     "output_type": "display_data"
    }
   ],
   "source": [
    "plt.figure(figsize = (10, 6))\n",
    "plt.plot(np.arange(1, ensemble_size + 1), combined_accuracies, marker = \"o\", color = \"blue\", linewidth = 2)\n",
    "plt.plot(np.arange(1, ensemble_size + 1), single_accuracies, marker = \"o\", color = \"red\", linestyle = \"none\")\n",
    "plt.xlabel(\"Ensemble size\")\n",
    "plt.ylabel(\"Classification accuracy\")\n",
    "plt.show()"
   ]
  },
  {
   "cell_type": "markdown",
   "metadata": {},
   "source": [
    "## Construct an Ensemble by Training k-NN k-NN Classifiers on Sample Subsets"
   ]
  },
  {
   "cell_type": "code",
   "execution_count": 6,
   "metadata": {},
   "outputs": [
    {
     "name": "stdout",
     "output_type": "stream",
     "text": [
      "training knn #1\n",
      "training knn #2\n",
      "training knn #3\n",
      "training knn #4\n",
      "training knn #5\n",
      "training knn #6\n",
      "training knn #7\n",
      "training knn #8\n",
      "training knn #9\n",
      "training knn #10\n",
      "training knn #11\n",
      "training knn #12\n",
      "training knn #13\n",
      "training knn #14\n",
      "training knn #15\n",
      "training knn #16\n",
      "training knn #17\n",
      "training knn #18\n",
      "training knn #19\n",
      "training knn #20\n",
      "training knn #21\n",
      "training knn #22\n",
      "training knn #23\n",
      "training knn #24\n",
      "training knn #25\n",
      "training knn #26\n",
      "training knn #27\n",
      "training knn #28\n",
      "training knn #29\n",
      "training knn #30\n",
      "training knn #31\n",
      "training knn #32\n",
      "training knn #33\n",
      "training knn #34\n",
      "training knn #35\n",
      "training knn #36\n",
      "training knn #37\n",
      "training knn #38\n",
      "training knn #39\n",
      "training knn #40\n",
      "training knn #41\n",
      "training knn #42\n",
      "training knn #43\n",
      "training knn #44\n",
      "training knn #45\n",
      "training knn #46\n",
      "training knn #47\n",
      "training knn #48\n",
      "training knn #49\n",
      "training knn #50\n",
      "training knn #51\n",
      "training knn #52\n",
      "training knn #53\n",
      "training knn #54\n",
      "training knn #55\n",
      "training knn #56\n",
      "training knn #57\n",
      "training knn #58\n",
      "training knn #59\n",
      "training knn #60\n",
      "training knn #61\n",
      "training knn #62\n",
      "training knn #63\n",
      "training knn #64\n",
      "training knn #65\n",
      "training knn #66\n",
      "training knn #67\n",
      "training knn #68\n",
      "training knn #69\n",
      "training knn #70\n",
      "training knn #71\n",
      "training knn #72\n",
      "training knn #73\n",
      "training knn #74\n",
      "training knn #75\n",
      "training knn #76\n",
      "training knn #77\n",
      "training knn #78\n",
      "training knn #79\n",
      "training knn #80\n",
      "training knn #81\n",
      "training knn #82\n",
      "training knn #83\n",
      "training knn #84\n",
      "training knn #85\n",
      "training knn #86\n",
      "training knn #87\n",
      "training knn #88\n",
      "training knn #89\n",
      "training knn #90\n",
      "training knn #91\n",
      "training knn #92\n",
      "training knn #93\n",
      "training knn #94\n",
      "training knn #95\n",
      "training knn #96\n",
      "training knn #97\n",
      "training knn #98\n",
      "training knn #99\n",
      "training knn #100\n"
     ]
    }
   ],
   "source": [
    "np.random.seed(421)\n",
    "ensemble_size = 100\n",
    "sample_subset_size = 50\n",
    "N_test = X_test.shape[0]\n",
    "k = 5\n",
    "\n",
    "predicted_probabilities = np.zeros((N_test, K, ensemble_size))\n",
    "for t in range(ensemble_size):\n",
    "    print(\"training knn #{0}\".format(t + 1))\n",
    "    selected_samples = np.concatenate([np.random.choice(np.flatnonzero(y_train == c + 1), size = sample_subset_size // K, replace = False) for c in range(K)])\n",
    "    distance_matrix = dt.cdist(X_test, X_train[selected_samples, :])\n",
    "    for c in range(K):\n",
    "        predicted_probabilities[:, c, t] = np.asarray([sum(y_train[selected_samples][np.argsort(distance_matrix[i, :])[range(k)]] == c + 1) for i in range(N_test)]) / k"
   ]
  },
  {
   "cell_type": "code",
   "execution_count": 7,
   "metadata": {},
   "outputs": [],
   "source": [
    "single_accuracies = np.zeros(ensemble_size)\n",
    "combined_accuracies = np.zeros(ensemble_size)\n",
    "for t in range(ensemble_size):\n",
    "    y_predicted = np.argmax(predicted_probabilities[:, :, t], axis = 1) + 1\n",
    "    single_accuracies[t] = np.mean(y_predicted == y_test)\n",
    "    prediction = np.mean(predicted_probabilities[:, :, range(t + 1)], axis = 2)\n",
    "    y_predicted = np.argmax(prediction, axis = 1) + 1\n",
    "    combined_accuracies[t] = np.mean(y_predicted == y_test)"
   ]
  },
  {
   "cell_type": "code",
   "execution_count": 8,
   "metadata": {},
   "outputs": [
    {
     "data": {
      "image/png": "[encoded data removed]",
      "text/plain": [
       "<Figure size 720x432 with 1 Axes>"
      ]
     },
     "metadata": {
      "needs_background": "light"
     },
     "output_type": "display_data"
    }
   ],
   "source": [
    "plt.figure(figsize = (10, 6))\n",
    "plt.plot(np.arange(1, ensemble_size + 1), combined_accuracies, marker = \"o\", color = \"blue\", linewidth = 2)\n",
    "plt.plot(np.arange(1, ensemble_size + 1), single_accuracies, marker = \"o\", color = \"red\", linestyle = \"none\")\n",
    "plt.xlabel(\"Ensemble size\")\n",
    "plt.ylabel(\"Classification accuracy\")\n",
    "plt.show()"
   ]
  }
 ],
 "metadata": {
  "kernelspec": {
   "display_name": "Python 3",
   "language": "python",
   "name": "python3"
  },
  "language_info": {
   "codemirror_mode": {
    "name": "ipython",
    "version": 3
   },
   "file_extension": ".py",
   "mimetype": "text/x-python",
   "name": "python",
   "nbconvert_exporter": "python",
   "pygments_lexer": "ipython3",
   "version": "3.8.9"
  }
 },
 "nbformat": 4,
 "nbformat_minor": 4
}
