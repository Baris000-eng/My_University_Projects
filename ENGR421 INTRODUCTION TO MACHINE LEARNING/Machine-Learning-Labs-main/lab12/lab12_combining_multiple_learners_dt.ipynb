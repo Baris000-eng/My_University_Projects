{
 "cells": [
  {
   "cell_type": "markdown",
   "metadata": {},
   "source": [
    "# Lab12: Combining Multiple Learners\n",
    "## Mehmet Gönen\n",
    "### December 28, 2021"
   ]
  },
  {
   "cell_type": "code",
   "execution_count": 1,
   "metadata": {},
   "outputs": [],
   "source": [
    "import matplotlib.pyplot as plt\n",
    "import numpy as np\n",
    "import sklearn.tree as tree"
   ]
  },
  {
   "cell_type": "markdown",
   "metadata": {},
   "source": [
    "## Importing Data"
   ]
  },
  {
   "cell_type": "code",
   "execution_count": 2,
   "metadata": {},
   "outputs": [],
   "source": [
    "# read data into memory\n",
    "training_digits = np.genfromtxt(\"lab12_mnist_training_digits.csv\", delimiter = \",\")\n",
    "training_labels = np.genfromtxt(\"lab12_mnist_training_labels.csv\", delimiter = \",\")\n",
    "test_digits = np.genfromtxt(\"lab12_mnist_test_digits.csv\", delimiter = \",\")\n",
    "test_labels = np.genfromtxt(\"lab12_mnist_test_labels.csv\", delimiter = \",\")\n",
    "\n",
    "# get X and y values\n",
    "X_train = training_digits / 255\n",
    "y_train = training_labels.astype(int)\n",
    "X_test = test_digits / 255\n",
    "y_test = test_labels.astype(int)\n",
    "\n",
    "# get number of classes and number of features\n",
    "K = np.max(y_train)\n",
    "D = X_train.shape[1]"
   ]
  },
  {
   "cell_type": "markdown",
   "metadata": {},
   "source": [
    "## Construct an Ensemble by Training Decision Trees on Feature Subsets"
   ]
  },
  {
   "cell_type": "code",
   "execution_count": 3,
   "metadata": {},
   "outputs": [
    {
     "name": "stdout",
     "output_type": "stream",
     "text": [
      "training decision tree #1\n",
      "training decision tree #2\n",
      "training decision tree #3\n",
      "training decision tree #4\n",
      "training decision tree #5\n",
      "training decision tree #6\n",
      "training decision tree #7\n",
      "training decision tree #8\n",
      "training decision tree #9\n",
      "training decision tree #10\n",
      "training decision tree #11\n",
      "training decision tree #12\n",
      "training decision tree #13\n",
      "training decision tree #14\n",
      "training decision tree #15\n",
      "training decision tree #16\n",
      "training decision tree #17\n",
      "training decision tree #18\n",
      "training decision tree #19\n",
      "training decision tree #20\n",
      "training decision tree #21\n",
      "training decision tree #22\n",
      "training decision tree #23\n",
      "training decision tree #24\n",
      "training decision tree #25\n",
      "training decision tree #26\n",
      "training decision tree #27\n",
      "training decision tree #28\n",
      "training decision tree #29\n",
      "training decision tree #30\n",
      "training decision tree #31\n",
      "training decision tree #32\n",
      "training decision tree #33\n",
      "training decision tree #34\n",
      "training decision tree #35\n",
      "training decision tree #36\n",
      "training decision tree #37\n",
      "training decision tree #38\n",
      "training decision tree #39\n",
      "training decision tree #40\n",
      "training decision tree #41\n",
      "training decision tree #42\n",
      "training decision tree #43\n",
      "training decision tree #44\n",
      "training decision tree #45\n",
      "training decision tree #46\n",
      "training decision tree #47\n",
      "training decision tree #48\n",
      "training decision tree #49\n",
      "training decision tree #50\n",
      "training decision tree #51\n",
      "training decision tree #52\n",
      "training decision tree #53\n",
      "training decision tree #54\n",
      "training decision tree #55\n",
      "training decision tree #56\n",
      "training decision tree #57\n",
      "training decision tree #58\n",
      "training decision tree #59\n",
      "training decision tree #60\n",
      "training decision tree #61\n",
      "training decision tree #62\n",
      "training decision tree #63\n",
      "training decision tree #64\n",
      "training decision tree #65\n",
      "training decision tree #66\n",
      "training decision tree #67\n",
      "training decision tree #68\n",
      "training decision tree #69\n",
      "training decision tree #70\n",
      "training decision tree #71\n",
      "training decision tree #72\n",
      "training decision tree #73\n",
      "training decision tree #74\n",
      "training decision tree #75\n",
      "training decision tree #76\n",
      "training decision tree #77\n",
      "training decision tree #78\n",
      "training decision tree #79\n",
      "training decision tree #80\n",
      "training decision tree #81\n",
      "training decision tree #82\n",
      "training decision tree #83\n",
      "training decision tree #84\n",
      "training decision tree #85\n",
      "training decision tree #86\n",
      "training decision tree #87\n",
      "training decision tree #88\n",
      "training decision tree #89\n",
      "training decision tree #90\n",
      "training decision tree #91\n",
      "training decision tree #92\n",
      "training decision tree #93\n",
      "training decision tree #94\n",
      "training decision tree #95\n",
      "training decision tree #96\n",
      "training decision tree #97\n",
      "training decision tree #98\n",
      "training decision tree #99\n",
      "training decision tree #100\n"
     ]
    }
   ],
   "source": [
    "np.random.seed(421)\n",
    "ensemble_size = 100\n",
    "feature_subset_size = 75\n",
    "N_test = X_test.shape[0]\n",
    "\n",
    "predicted_probabilities = np.zeros((N_test, K, ensemble_size))\n",
    "for t in range(ensemble_size):\n",
    "    print(\"training decision tree #{0}\".format(t + 1))\n",
    "    selected_features = np.random.choice(range(D), size = feature_subset_size, replace = False)\n",
    "    tree_model = tree.DecisionTreeClassifier().fit(X_train[:, selected_features], y_train)\n",
    "    predicted_probabilities[:, :, t] = tree_model.predict_proba(X_test[:, selected_features])"
   ]
  },
  {
   "cell_type": "code",
   "execution_count": 4,
   "metadata": {},
   "outputs": [],
   "source": [
    "single_accuracies = np.zeros(ensemble_size)\n",
    "combined_accuracies = np.zeros(ensemble_size)\n",
    "for t in range(ensemble_size):\n",
    "    y_predicted = np.argmax(predicted_probabilities[:, :, t], axis = 1) + 1\n",
    "    single_accuracies[t] = np.mean(y_predicted == y_test)\n",
    "    prediction = np.mean(predicted_probabilities[:, :, range(t + 1)], axis = 2)\n",
    "    y_predicted = np.argmax(prediction, axis = 1) + 1\n",
    "    combined_accuracies[t] = np.mean(y_predicted == y_test)"
   ]
  },
  {
   "cell_type": "code",
   "execution_count": 5,
   "metadata": {},
   "outputs": [
    {
     "data": {
      "image/png": "[encoded data removed]",
      "text/plain": [
       "<Figure size 720x432 with 1 Axes>"
      ]
     },
     "metadata": {
      "needs_background": "light"
     },
     "output_type": "display_data"
    }
   ],
   "source": [
    "plt.figure(figsize = (10, 6))\n",
    "plt.plot(np.arange(1, ensemble_size + 1), combined_accuracies, marker = \"o\", color = \"blue\", linewidth = 2)\n",
    "plt.plot(np.arange(1, ensemble_size + 1), single_accuracies, marker = \"o\", color = \"red\", linestyle = \"none\")\n",
    "plt.xlabel(\"Ensemble size\")\n",
    "plt.ylabel(\"Classification accuracy\")\n",
    "plt.show()"
   ]
  },
  {
   "cell_type": "markdown",
   "metadata": {},
   "source": [
    "## Construct an Ensemble by Training Decision Trees on Sample Subsets"
   ]
  },
  {
   "cell_type": "code",
   "execution_count": 6,
   "metadata": {},
   "outputs": [
    {
     "name": "stdout",
     "output_type": "stream",
     "text": [
      "training decision tree #1\n",
      "training decision tree #2\n",
      "training decision tree #3\n",
      "training decision tree #4\n",
      "training decision tree #5\n",
      "training decision tree #6\n",
      "training decision tree #7\n",
      "training decision tree #8\n",
      "training decision tree #9\n",
      "training decision tree #10\n",
      "training decision tree #11\n",
      "training decision tree #12\n",
      "training decision tree #13\n",
      "training decision tree #14\n",
      "training decision tree #15\n",
      "training decision tree #16\n",
      "training decision tree #17\n",
      "training decision tree #18\n",
      "training decision tree #19\n",
      "training decision tree #20\n",
      "training decision tree #21\n",
      "training decision tree #22\n",
      "training decision tree #23\n",
      "training decision tree #24\n",
      "training decision tree #25\n",
      "training decision tree #26\n",
      "training decision tree #27\n",
      "training decision tree #28\n",
      "training decision tree #29\n",
      "training decision tree #30\n",
      "training decision tree #31\n",
      "training decision tree #32\n",
      "training decision tree #33\n",
      "training decision tree #34\n",
      "training decision tree #35\n",
      "training decision tree #36\n",
      "training decision tree #37\n",
      "training decision tree #38\n",
      "training decision tree #39\n",
      "training decision tree #40\n",
      "training decision tree #41\n",
      "training decision tree #42\n",
      "training decision tree #43\n",
      "training decision tree #44\n",
      "training decision tree #45\n",
      "training decision tree #46\n",
      "training decision tree #47\n",
      "training decision tree #48\n",
      "training decision tree #49\n",
      "training decision tree #50\n",
      "training decision tree #51\n",
      "training decision tree #52\n",
      "training decision tree #53\n",
      "training decision tree #54\n",
      "training decision tree #55\n",
      "training decision tree #56\n",
      "training decision tree #57\n",
      "training decision tree #58\n",
      "training decision tree #59\n",
      "training decision tree #60\n",
      "training decision tree #61\n",
      "training decision tree #62\n",
      "training decision tree #63\n",
      "training decision tree #64\n",
      "training decision tree #65\n",
      "training decision tree #66\n",
      "training decision tree #67\n",
      "training decision tree #68\n",
      "training decision tree #69\n",
      "training decision tree #70\n",
      "training decision tree #71\n",
      "training decision tree #72\n",
      "training decision tree #73\n",
      "training decision tree #74\n",
      "training decision tree #75\n",
      "training decision tree #76\n",
      "training decision tree #77\n",
      "training decision tree #78\n",
      "training decision tree #79\n",
      "training decision tree #80\n",
      "training decision tree #81\n",
      "training decision tree #82\n",
      "training decision tree #83\n",
      "training decision tree #84\n",
      "training decision tree #85\n",
      "training decision tree #86\n",
      "training decision tree #87\n",
      "training decision tree #88\n",
      "training decision tree #89\n",
      "training decision tree #90\n",
      "training decision tree #91\n",
      "training decision tree #92\n",
      "training decision tree #93\n",
      "training decision tree #94\n",
      "training decision tree #95\n",
      "training decision tree #96\n",
      "training decision tree #97\n",
      "training decision tree #98\n",
      "training decision tree #99\n",
      "training decision tree #100\n"
     ]
    }
   ],
   "source": [
    "np.random.seed(421)\n",
    "ensemble_size = 100\n",
    "sample_subset_size = 50\n",
    "N_test = X_test.shape[0]\n",
    "\n",
    "predicted_probabilities = np.zeros((N_test, K, ensemble_size))\n",
    "for t in range(ensemble_size):\n",
    "    print(\"training decision tree #{0}\".format(t + 1))\n",
    "    selected_samples = np.concatenate([np.random.choice(np.flatnonzero(y_train == c + 1), size = sample_subset_size // K, replace = False) for c in range(K)])\n",
    "    tree_model = tree.DecisionTreeClassifier().fit(X_train[selected_samples, :], y_train[selected_samples])\n",
    "    predicted_probabilities[:, :, t] = tree_model.predict_proba(X_test)"
   ]
  },
  {
   "cell_type": "code",
   "execution_count": 7,
   "metadata": {},
   "outputs": [],
   "source": [
    "single_accuracies = np.zeros(ensemble_size)\n",
    "combined_accuracies = np.zeros(ensemble_size)\n",
    "for t in range(ensemble_size):\n",
    "    y_predicted = np.argmax(predicted_probabilities[:, :, t], axis = 1) + 1\n",
    "    single_accuracies[t] = np.mean(y_predicted == y_test)\n",
    "    prediction = np.mean(predicted_probabilities[:, :, range(t + 1)], axis = 2)\n",
    "    y_predicted = np.argmax(prediction, axis = 1) + 1\n",
    "    combined_accuracies[t] = np.mean(y_predicted == y_test)"
   ]
  },
  {
   "cell_type": "code",
   "execution_count": 8,
   "metadata": {},
   "outputs": [
    {
     "data": {
      "image/png": "[encoded data removed]",
      "text/plain": [
       "<Figure size 720x432 with 1 Axes>"
      ]
     },
     "metadata": {
      "needs_background": "light"
     },
     "output_type": "display_data"
    }
   ],
   "source": [
    "plt.figure(figsize = (10, 6))\n",
    "plt.plot(np.arange(1, ensemble_size + 1), combined_accuracies, marker = \"o\", color = \"blue\", linewidth = 2)\n",
    "plt.plot(np.arange(1, ensemble_size + 1), single_accuracies, marker = \"o\", color = \"red\", linestyle = \"none\")\n",
    "plt.xlabel(\"Ensemble size\")\n",
    "plt.ylabel(\"Classification accuracy\")\n",
    "plt.show()"
   ]
  }
 ],
 "metadata": {
  "kernelspec": {
   "display_name": "Python 3",
   "language": "python",
   "name": "python3"
  },
  "language_info": {
   "codemirror_mode": {
    "name": "ipython",
    "version": 3
   },
   "file_extension": ".py",
   "mimetype": "text/x-python",
   "name": "python",
   "nbconvert_exporter": "python",
   "pygments_lexer": "ipython3",
   "version": "3.8.9"
  }
 },
 "nbformat": 4,
 "nbformat_minor": 4
}
