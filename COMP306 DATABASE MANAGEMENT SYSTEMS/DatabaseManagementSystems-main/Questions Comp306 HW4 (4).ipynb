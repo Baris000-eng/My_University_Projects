{
 "cells": [
  {
   "cell_type": "markdown",
   "metadata": {},
   "source": [
    "# Homework 4"
   ]
  },
  {
   "cell_type": "markdown",
   "metadata": {},
   "source": [
    "## Mysql-Python Connection"
   ]
  },
  {
   "cell_type": "code",
   "execution_count": 1,
   "metadata": {},
   "outputs": [],
   "source": [
    "import mysql.connector\n",
    "import pandas as pd\n",
    "\n",
    "import matplotlib.pyplot as plt\n",
    "import seaborn as sns\n",
    "import csv\n",
    "\n",
    "%matplotlib inline"
   ]
  },
  {
   "cell_type": "code",
   "execution_count": 2,
   "metadata": {},
   "outputs": [
    {
     "name": "stdout",
     "output_type": "stream",
     "text": [
      "<mysql.connector.connection.MySQLConnection object at 0x7fa5080ae580>\n"
     ]
    }
   ],
   "source": [
    "db_connection = mysql.connector.connect(\n",
    "    host=\"localhost\",\n",
    "    user=\"root\",\n",
    "    passwd=\"Bk454454.\", \n",
    "    auth_plugin='mysql_native_password'\n",
    ")\n",
    "print(db_connection)\n",
    "\n"
   ]
  },
  {
   "cell_type": "code",
   "execution_count": 3,
   "metadata": {},
   "outputs": [
    {
     "name": "stdout",
     "output_type": "stream",
     "text": [
      "('information_schema',)\n",
      "('mysql',)\n",
      "('performance_schema',)\n",
      "('ps_ecommerce',)\n",
      "('sys',)\n",
      "('testdb',)\n",
      "('world',)\n"
     ]
    }
   ],
   "source": [
    "# creating database_cursor to perform SQL operation to run queries\n",
    "db_cursor = db_connection.cursor(buffered=True)\n",
    "\n",
    "# executing cursor with execute method and pass SQL query\n",
    "db_cursor.execute(\"CREATE DATABASE ps_ecommerce\")\n",
    "\n",
    "# get list of all databases\n",
    "db_cursor.execute(\"SHOW DATABASES\")\n",
    "\n",
    "# print all databases\n",
    "for db in db_cursor:\n",
    "    print(db)\n",
    "    \n",
    "db_cursor.execute(\"USE ps_ecommerce\")"
   ]
  },
  {
   "cell_type": "markdown",
   "metadata": {},
   "source": [
    "## Load Data to Mysql Tables"
   ]
  },
  {
   "cell_type": "code",
   "execution_count": null,
   "metadata": {},
   "outputs": [],
   "source": [
    "def populate_table(db_connection, db_cursor, insert_query, file_path):\n",
    "    \n",
    "    with open(file_path, mode='r') as csv_data:\n",
    "        reader = csv.reader(csv_data, delimiter=';')\n",
    "        csv_data_list = list(reader)\n",
    "        for row in csv_data_list[1:]:\n",
    "            row = tuple(map(lambda x: None if x == \"\" else x, row[0].split(',')))\n",
    "            db_cursor.execute(insert_query, row)\n",
    "        \n",
    "    db_connection.commit()"
   ]
  },
  {
   "cell_type": "code",
   "execution_count": null,
   "metadata": {},
   "outputs": [],
   "source": [
    "# create CUSTOMERS table\n",
    "db_cursor.execute(\"\"\"CREATE TABLE CUSTOMERS (customer_id VARCHAR(50) NOT NULL, \n",
    "                                          customer_unique_id VARCHAR(50) NOT NULL, \n",
    "                                          customer_zip_code_prefix VARCHAR(50), \n",
    "                                          customer_city VARCHAR(50), \n",
    "                                          customer_state VARCHAR(50))\"\"\")\n",
    "\n",
    "insert_customers = (\n",
    "    \"INSERT INTO CUSTOMERS(customer_id, customer_unique_id, customer_zip_code_prefix, customer_city, customer_state) \"\n",
    "    \"VALUES (%s, %s, %s, %s, %s)\"\n",
    ")\n",
    "\n",
    "populate_table(db_connection, db_cursor, insert_customers, \"customers.csv\")"
   ]
  },
  {
   "cell_type": "code",
   "execution_count": null,
   "metadata": {},
   "outputs": [],
   "source": [
    "# create ORDER_PAYMENTS table\n",
    "db_cursor.execute(\"\"\"CREATE TABLE ORDER_PAYMENTS (order_id VARCHAR(50) NOT NULL, \n",
    "                                          payment_sequential INTEGER, \n",
    "                                          payment_type VARCHAR(50), \n",
    "                                          payment_installments INTEGER, \n",
    "                                          payment_value FLOAT)\"\"\")\n",
    "\n",
    "insert_orderpayments = (\n",
    "    \"INSERT INTO ORDER_PAYMENTS(order_id, payment_sequential, payment_type, payment_installments, payment_value) \"\n",
    "    \"VALUES (%s, %s, %s, %s, %s)\"\n",
    ")\n",
    "\n",
    "populate_table(db_connection, db_cursor, insert_orderpayments, \"order_payments.csv\")"
   ]
  },
  {
   "cell_type": "code",
   "execution_count": null,
   "metadata": {},
   "outputs": [],
   "source": [
    "# create ORDER_ITEMS table\n",
    "db_cursor.execute(\"\"\"CREATE TABLE ORDER_ITEMS (order_id VARCHAR(50) NOT NULL, \n",
    "                                          order_item_id INTEGER, \n",
    "                                          product_id VARCHAR(50), \n",
    "                                          seller_id VARCHAR(50), \n",
    "                                          shipping_limit_date DATETIME,\n",
    "                                          price FLOAT,\n",
    "                                          freight_value FLOAT)\"\"\")\n",
    "\n",
    "insert_orderitems = (\n",
    "    \"INSERT INTO ORDER_ITEMS(order_id, order_item_id, product_id, seller_id, shipping_limit_date, price, freight_value) \"\n",
    "    \"VALUES (%s, %s, %s, %s, %s, %s, %s)\"\n",
    ")\n",
    "\n",
    "populate_table(db_connection, db_cursor, insert_orderitems, \"order_items.csv\")"
   ]
  },
  {
   "cell_type": "code",
   "execution_count": null,
   "metadata": {},
   "outputs": [],
   "source": [
    "# create ORDERS table\n",
    "db_cursor.execute(\"\"\"CREATE TABLE ORDERS (order_id VARCHAR(50) NOT NULL, \n",
    "                                          customer_id VARCHAR(50) NOT NULL, \n",
    "                                          order_status VARCHAR(50), \n",
    "                                          order_purchase_timestamp DATETIME, \n",
    "                                          order_approved_at DATETIME,\n",
    "                                          order_delivered_carrier_date DATETIME,\n",
    "                                          order_delivered_customer_date DATETIME,\n",
    "                                          order_estimated_delivery_date DATETIME)\"\"\")\n",
    "\n",
    "insert_orders = (\n",
    "    \"INSERT INTO ORDERS(order_id, customer_id, order_status, order_purchase_timestamp, order_approved_at, order_delivered_carrier_date, order_delivered_customer_date, order_estimated_delivery_date) \"\n",
    "    \"VALUES (%s, %s, %s, %s, %s, %s, %s, %s)\"\n",
    ")\n",
    "\n",
    "populate_table(db_connection, db_cursor, insert_orders, \"orders.csv\")"
   ]
  },
  {
   "cell_type": "markdown",
   "metadata": {},
   "source": [
    "## Question 1 (10 pts)"
   ]
  },
  {
   "cell_type": "code",
   "execution_count": null,
   "metadata": {},
   "outputs": [],
   "source": [
    "# Find the average number of weeks between products' actual delivery dates and estimated delivery dates. \n",
    "# Use order_delivered_customer_date column as actual delivery dates and \n",
    "# order_estimated_delivery_date column as estimated delivery dates.\n",
    "\n",
    "# HINT: There is a function in MySQL that makes it easy to compute the difference between two timestamps.\n",
    "# We recommend that you search for it online and use it in your answer.\n",
    "\n"
   ]
  },
  {
   "cell_type": "code",
   "execution_count": 4,
   "metadata": {},
   "outputs": [
    {
     "name": "stdout",
     "output_type": "stream",
     "text": [
      "[(Decimal('1.1862'),)]\n"
     ]
    }
   ],
   "source": [
    "# Solve Question 1 below\n",
    "\n",
    "\n",
    "#############################Q1 SOLUTION ######################################\n",
    "# Explanation about my solution to Q1:\n",
    "#For finding the difference between the two timestamps, I have used the function called \n",
    "# TIMESTAMPDIFF. As the unit parameter, I have passed \"WEEK\" in order to specify the \n",
    "# difference between the order_estimated_delivery_date and order_delivered_customer_date. \n",
    "# For taking the average number of week differences between the actual delivery dates \n",
    "# and estimated delivery dates, I have used the aggregate function which is called as \"AVG()\". \n",
    "\n",
    "#defining what the first query is \n",
    "first_query = \"SELECT AVG(TIMESTAMPDIFF(WEEK,order_delivered_customer_date,order_estimated_delivery_date)) FROM ORDERS\"\n",
    "\n",
    "#executing the first_query by calling execute method with the db_cursor object\n",
    "db_cursor.execute(first_query)\n",
    "\n",
    "num_weeks = db_cursor.fetchall() # calling fetchall() function for the second query\n",
    "\n",
    "print(num_weeks) #printing the result of the second query \n",
    "\n",
    "\n"
   ]
  },
  {
   "cell_type": "markdown",
   "metadata": {},
   "source": [
    "## Question 2 (15 pts)"
   ]
  },
  {
   "cell_type": "code",
   "execution_count": null,
   "metadata": {},
   "outputs": [],
   "source": [
    "# Consider the ORDER_COSTS table below. Using this table and the CUSTOMERS table, find the following:\n",
    "# In which states do customers spend, on average, more than 164 on their orders? \n",
    "# Fetch those states and average order costs in those states. Results should be ordered from lowest cost to highest."
   ]
  },
  {
   "cell_type": "code",
   "execution_count": null,
   "metadata": {},
   "outputs": [],
   "source": [
    "order_costs_query = \"\"\"\n",
    "                    CREATE TABLE ORDER_COSTS AS (\n",
    "                        SELECT ORDERS.order_id, SUM(price) AS cost, ORDERS.customer_id as cid\n",
    "                        FROM ORDER_ITEMS \n",
    "                             JOIN ORDERS\n",
    "                             ON ORDER_ITEMS.order_id=ORDERS.order_id\n",
    "                        GROUP BY order_id, ORDERS.customer_id)\n",
    "                    \"\"\"\n",
    "\n",
    "db_cursor.execute(order_costs_query)"
   ]
  },
  {
   "cell_type": "code",
   "execution_count": 5,
   "metadata": {},
   "outputs": [
    {
     "name": "stdout",
     "output_type": "stream",
     "text": [
      "[('PE', 165.95715586927687), ('MT', 184.82068734097837), ('RN', 168.72618171229507), ('PA', 182.85564198849806), ('TO', 179.9429249493581), ('AL', 202.31006200565315), ('RR', 279.38705960442036), ('RO', 217.85388387291178), ('PB', 222.1680950891404), ('MS', 173.50979253761005), ('AC', 224.56719970703125)]\n",
      "['PE', 'MT', 'RN', 'PA', 'TO', 'AL', 'RR', 'RO', 'PB', 'MS', 'AC']\n",
      "\n",
      "[165.95715586927687, 184.82068734097837, 168.72618171229507, 182.85564198849806, 179.9429249493581, 202.31006200565315, 279.38705960442036, 217.85388387291178, 222.1680950891404, 173.50979253761005, 224.56719970703125]\n",
      "\n",
      "['PE', 'MT', 'RN', 'PA', 'TO', 'AL', 'RR', 'RO', 'PB', 'MS', 'AC'] [165.95715586927687, 184.82068734097837, 168.72618171229507, 182.85564198849806, 179.9429249493581, 202.31006200565315, 279.38705960442036, 217.85388387291178, 222.1680950891404, 173.50979253761005, 224.56719970703125]\n"
     ]
    }
   ],
   "source": [
    "\n",
    "\n",
    "#############################Q2 SOLUTION ######################################\n",
    "\n",
    "\n",
    "\n",
    "db_cursor.execute(\"\"\"SELECT CUSTOMERS.customer_state,AVG(ORDER_COSTS.cost)\n",
    "                      FROM CUSTOMERS\n",
    "                      JOIN\n",
    "                      ORDER_COSTS\n",
    "                      ON ORDER_COSTS.cid=CUSTOMERS.customer_id\n",
    "                      GROUP BY CUSTOMERS.customer_state\n",
    "                      HAVING AVG(ORDER_COSTS.cost)>164\n",
    "                      ORDER BY ORDER_COSTS.cost ASC\"\"\")\n",
    "                    \n",
    "\n",
    "states_of_order_costs = db_cursor.fetchall()\n",
    "\n",
    "print(states_of_order_costs)\n",
    "\n",
    "cust_state,average_order_costs = map (list , zip(*states_of_order_costs))\n",
    "\n",
    "print(cust_state)\n",
    "print()\n",
    "print(average_order_costs)\n",
    "print()\n",
    "print(cust_state, average_order_costs)\n"
   ]
  },
  {
   "cell_type": "markdown",
   "metadata": {},
   "source": [
    "## Question 3 (15 pts)"
   ]
  },
  {
   "cell_type": "code",
   "execution_count": null,
   "metadata": {},
   "outputs": [],
   "source": [
    "# Implement the following function get_month. It takes as input a month as an integer.\n",
    "# It needs to compute: In the given month, how many payments were made with each different payment type?\n",
    "# e.g.: Credit card -> 5000 payments, debit card -> 100 payments, voucher -> 300 payments, ...\n",
    "\n",
    "# HINT: One of the MySQL functions we covered in the PS makes it easy to work with months."
   ]
  },
  {
   "cell_type": "code",
   "execution_count": 6,
   "metadata": {},
   "outputs": [],
   "source": [
    "# Solve Question 3 below\n",
    "\n",
    "def get_month(month):\n",
    "    #############################Q3 SOLUTION ######################################\n",
    "    query = \"SELECT ORDER_PAYMENTS.payment_type,COUNT(ORDER_PAYMENTS.payment_type) FROM ORDER_PAYMENTS JOIN ORDERS ON ORDERS.order_id=ORDER_PAYMENTS.order_id WHERE MONTH(ORDERS.order_purchase_timestamp) = \"+month+\" GROUP BY ORDER_PAYMENTS.payment_type\"\n",
    "    db_cursor.execute(query)\n",
    "    items = db_cursor.fetchall()\n",
    "    return items"
   ]
  },
  {
   "cell_type": "code",
   "execution_count": null,
   "metadata": {},
   "outputs": [],
   "source": []
  },
  {
   "cell_type": "code",
   "execution_count": 7,
   "metadata": {},
   "outputs": [
    {
     "name": "stdout",
     "output_type": "stream",
     "text": [
      "[('credit_card', 6609), ('boleto', 1723), ('voucher', 424), ('debit_card', 82)]\n"
     ]
    }
   ],
   "source": [
    "# Here is a sample function call for get_month:\n",
    "print(get_month(\"2\"))"
   ]
  },
  {
   "cell_type": "markdown",
   "metadata": {},
   "source": [
    "## Question 4 (10 pts)"
   ]
  },
  {
   "cell_type": "code",
   "execution_count": null,
   "metadata": {},
   "outputs": [],
   "source": [
    "# Consider the PRODUCTS table below and the ORDER_ITEMS table from earlier. \n",
    "# For each product category other than {\"moveis_decoracao\", \"beleza_saude\"}, find the minimum price that was paid for\n",
    "# an item from that category. Limit the result to retrieve only 6 rows.\n",
    "\n",
    "# The result should be like: category1 -> minprice1, category2 -> minprice2, ..."
   ]
  },
  {
   "cell_type": "code",
   "execution_count": null,
   "metadata": {},
   "outputs": [],
   "source": [
    "db_cursor.execute(\"\"\"CREATE TABLE PRODUCTS (product_id VARCHAR(50) NOT NULL, \n",
    "                                            product_category_name VARCHAR(50), \n",
    "                                            product_name_lenght INTEGER, \n",
    "                                            product_description_lenght INTEGER, \n",
    "                                            product_photos_qty INTEGER,\n",
    "                                            product_weight_g INTEGER,\n",
    "                                            product_length_cm INTEGER,\n",
    "                                            product_height_cm INTEGER,\n",
    "                                            product_width_cm INTEGER)\"\"\")\n",
    "\n",
    "insert_products = (\n",
    "    \"INSERT INTO PRODUCTS(product_id, product_category_name, product_name_lenght, product_description_lenght, product_photos_qty, product_weight_g, product_length_cm,  product_height_cm, product_width_cm) \"\n",
    "    \"VALUES (%s, %s, %s, %s, %s, %s, %s, %s, %s)\"\n",
    ")\n",
    "\n",
    "populate_table(db_connection, db_cursor, insert_products, \"products.csv\")"
   ]
  },
  {
   "cell_type": "code",
   "execution_count": 8,
   "metadata": {},
   "outputs": [
    {
     "name": "stdout",
     "output_type": "stream",
     "text": [
      "[('esporte_lazer', 5.49), ('utilidades_domesticas', 4.4), ('cama_mesa_banho', 6.99), ('informatica_acessorios', 3.9), ('relogios_presentes', 8.99), ('brinquedos', 4.99)]\n"
     ]
    }
   ],
   "source": [
    "#My solution for the question-4 \n",
    "\n",
    "#############################Q4 SOLUTION ######################################\n",
    "\n",
    "# Solve Question 4 below\n",
    "fourth_query = \"\"\"SELECT PRODUCTS.product_category_name AS category, MIN(ORDER_ITEMS.price) AS min_price\n",
    "             FROM ORDER_ITEMS\n",
    "             JOIN PRODUCTS\n",
    "             ON ORDER_ITEMS.product_id=PRODUCTS.product_id\n",
    "             WHERE product_category_name NOT IN (SELECT product_category_name FROM PRODUCTS WHERE product_category_name = \"moveis_decoracao\")\n",
    "             AND product_category_name NOT IN (SELECT product_category_name FROM PRODUCTS WHERE product_category_name = \"beleza_saude\"\n",
    "             )\n",
    "             GROUP BY PRODUCTS.product_category_name\n",
    "             LIMIT 6\"\"\"\n",
    "\n",
    "db_cursor.execute(fourth_query)\n",
    "\n",
    "fourth_res = db_cursor.fetchall()\n",
    "\n",
    "print(fourth_res)\n",
    "\n",
    "\n",
    "category_nm, min_pr = map(list , zip(*fourth_res))\n",
    "\n",
    "\n",
    "\n",
    "\n",
    "\n",
    "\n",
    "\n",
    "\n",
    "\n",
    "\n",
    "\n",
    "\n"
   ]
  },
  {
   "cell_type": "markdown",
   "metadata": {},
   "source": [
    "## Question 5 (10 pts)"
   ]
  },
  {
   "cell_type": "code",
   "execution_count": null,
   "metadata": {},
   "outputs": [],
   "source": [
    "# Draw a pie chart using the data from the previous question.\n",
    "# Labels of your pie chart should be the product categories.\n",
    "# Contents of your pie chart (i.e., sizes of the pie slices) should be determined by the min prices."
   ]
  },
  {
   "cell_type": "code",
   "execution_count": 9,
   "metadata": {},
   "outputs": [
    {
     "data": {
      "image/png": "[encoded data removed]",
      "text/plain": [
       "<Figure size 432x288 with 1 Axes>"
      ]
     },
     "metadata": {},
     "output_type": "display_data"
    }
   ],
   "source": [
    "# Solve Question 5 below\n",
    "\n",
    "#############################Q5 SOLUTION ######################################\n",
    "\n",
    "\n",
    "#Plotting the pie chart \n",
    "explode = (0, 0, 0, 0, 0, 0)\n",
    "fig1,ax1 = plt.subplots()\n",
    "ax1.pie(min_pr,explode=explode,labels=category_nm,autopct=\"%1.0f%%\",shadow=True, startangle=40)\n",
    "ax1.axis('equal')\n",
    "plt.title(\"- Pie Chart showing Min Prices - \") #giving title to pie chart\n",
    "plt.show() #for displaying the pie chart\n"
   ]
  },
  {
   "cell_type": "markdown",
   "metadata": {},
   "source": [
    "## Question 6 (15 pts)"
   ]
  },
  {
   "cell_type": "code",
   "execution_count": null,
   "metadata": {},
   "outputs": [],
   "source": [
    "# Let us define \"large products\" as those products with weight > 400 and length > 10.\n",
    "# Some orders that contain a large product can have large discrepancies between their order_delivered_carrier_date and \n",
    "# order_delivered_customer_date. \n",
    "# Let us define \"strange orders that contain large products\" as those orders which contain a large product and the \n",
    "# difference between their order_delivered_carrier_date and order_delivered_customer_date is larger than 100 days.\n",
    "\n",
    "# For all \"strange orders that contain large products\", find their order IDs and the number of days difference between \n",
    "# their order_delivered_carrier_date and order_delivered_customer_date.\n",
    "# Result should be like: \"abc21312df\" -> 132, \"dhs230kdf8\" -> 119, ...\n",
    "\n",
    "# HINT: Using the same MySQL function as Question 1 may help.\n",
    "\n",
    "\n",
    "#product_weight_g INTEGER,\n",
    "#product_length_cm INTEGER,\n",
    "                                            #product_height_cm INTEGER,\n",
    "                                            #product_width_cm INTEGER)\"\"\")\n",
    "\n",
    "\n",
    "\n",
    "\n"
   ]
  },
  {
   "cell_type": "code",
   "execution_count": 10,
   "metadata": {},
   "outputs": [
    {
     "name": "stdout",
     "output_type": "stream",
     "text": [
      "[('6e3a1f3ec46461756c3f620e267aa1b8', 103), ('d24e8541128cea179a11a65176e0a96f', 171), ('3b919fbc512d96f81330d2aae3ed0cf6', 106), ('0f4519c5f1c541ddec9f21b3bddd533a', 181), ('e52c9dfec957c503bed5d050a39c740f', 102), ('031e7d4e559a1bf08e71a419aa998d0a', 165), ('437222e3fd1b07396f1d9ba8c15fba59', 182), ('525e11b26fdb7f41471d289897d0f6da', 167), ('47b40429ed8cce3aee9199792275433f', 157), ('1b3190b2dfa9d789e1f14c05b647a14a', 205), ('2ba1366baecad3c3536f27546d129017', 178), ('dfe5f68118c2576143240b8d78e5940a', 181), ('0b32bf55276b5feb681f6ed6fd670692', 143), ('d8dbb44d7c5b1fd8e7f41b49e27053d7', 104), ('cce224811ba8fea016c049693c3e0402', 145), ('6e82dcfb5eada6283dba34f164e636f5', 180), ('160d1364f477494647a995f6bbec0b5f', 104), ('7e708aed151d6a8601ce8f2eaa712bf4', 134), ('a4efaffc506a395c9cea7402b078c1e5', 103)]\n"
     ]
    }
   ],
   "source": [
    "# Solve Question 6 below\n",
    "\n",
    "\n",
    "#############################Q6 SOLUTION ######################################\n",
    "\n",
    "sixth_query = \"\"\"SELECT ORDERS.order_id,TIMESTAMPDIFF(DAY,ORDERS.order_delivered_carrier_date,\n",
    "              ORDERS.order_delivered_customer_date)\n",
    "              FROM ORDERS\n",
    "              JOIN ORDER_ITEMS\n",
    "              ON ORDER_ITEMS.order_id=ORDERS.order_id\n",
    "              JOIN PRODUCTS\n",
    "              ON PRODUCTS.product_id=ORDER_ITEMS.product_id\n",
    "              WHERE PRODUCTS.product_length_cm > 10 AND\n",
    "              PRODUCTS.product_weight_g > 400 AND\n",
    "              TIMESTAMPDIFF(DAY,ORDERS.order_delivered_carrier_date,\n",
    "              ORDERS.order_delivered_customer_date)>100\n",
    "              \"\"\"\n",
    "              \n",
    "            \n",
    "\n",
    "db_cursor.execute(sixth_query)\n",
    "\n",
    "strange_orders = db_cursor.fetchall()\n",
    "\n",
    "print(strange_orders)\n",
    "\n",
    "\n",
    "\n",
    "\n",
    "\n",
    "order_id_val,number_of_day_differences = map(list, zip(*strange_orders))\n",
    "\n",
    "\n",
    "\n",
    "\n",
    "\n",
    "\n",
    "\n",
    "\n",
    "    \n"
   ]
  },
  {
   "cell_type": "markdown",
   "metadata": {},
   "source": [
    "## Question 7 (10 pts)"
   ]
  },
  {
   "cell_type": "code",
   "execution_count": null,
   "metadata": {},
   "outputs": [],
   "source": [
    "# Draw a bar chart using the data from the previous question.\n",
    "# Order IDs should be on the x-axis.\n",
    "# Number of days difference should be on the y-axis.\n",
    "# (Although we are not looking for production quality figures, make sure that your plots are readable.)\n",
    "\n",
    "\n",
    "\n"
   ]
  },
  {
   "cell_type": "code",
   "execution_count": 11,
   "metadata": {},
   "outputs": [
    {
     "data": {
      "image/png": "[encoded data removed]",
      "text/plain": [
       "<Figure size 432x288 with 1 Axes>"
      ]
     },
     "metadata": {
      "needs_background": "light"
     },
     "output_type": "display_data"
    }
   ],
   "source": [
    "# Solve Question 7 below\n",
    "\n",
    "#############################Q7 SOLUTION ######################################\n",
    "\n",
    "#My solution for Q7 is as below:\n",
    "\n",
    "fig = plt.figure() #for constructing an instance of figure\n",
    "ax = fig.add_axes([0,0,1,1])\n",
    "ax.bar(order_id_val,number_of_day_differences)\n",
    "plt.xlabel(\"- Order ID Values - \") #for naming the x axis of the bar chart\n",
    "plt.ylabel(\"- Number of Day Differences - \") #for naming the y axis of the bar chart\n",
    "plt.title(\" - Number of day differences for the order ids - \",loc='left') #for giving a title to the bar chart and locating this title at the left\n",
    "plt.setp(ax.get_xticklabels(),rotation=30,horizontalalignment='right')\n",
    "plt.show() #for displaying the bar chart"
   ]
  },
  {
   "cell_type": "markdown",
   "metadata": {},
   "source": [
    "## Question 8 (15 pts)"
   ]
  },
  {
   "cell_type": "code",
   "execution_count": null,
   "metadata": {},
   "outputs": [],
   "source": [
    "# Write an SQL query to find the total number of orders per week day, e.g., Monday -> 150 orders, Tuesday -> 200 orders,\n",
    "# Wednesday -> 500 orders, etc. Use the \"order_purchase_timestamp\" attribute when counting the number of orders.\n",
    "# Plot the result using a bar chart (days of week on x-axis, number of orders on y-axis). \n",
    "\n",
    "# HINT: Check out the \"WEEKDAY\" function of MySQL. "
   ]
  },
  {
   "cell_type": "code",
   "execution_count": 12,
   "metadata": {},
   "outputs": [
    {
     "name": "stdout",
     "output_type": "stream",
     "text": [
      "[(0, 16196), (1, 15963), (2, 15552), (3, 14761), (4, 14122), (5, 10887), (6, 11960)]\n"
     ]
    },
    {
     "data": {
      "image/png": "[encoded data removed]",
      "text/plain": [
       "<Figure size 864x432 with 1 Axes>"
      ]
     },
     "metadata": {
      "needs_background": "light"
     },
     "output_type": "display_data"
    }
   ],
   "source": [
    "# Solve Question 8 below\n",
    "\n",
    "\n",
    "#############################Q8 SOLUTION ######################################\n",
    "\n",
    "eigth_query = \"\"\"\n",
    "              SELECT WEEKDAY(ORDERS.order_purchase_timestamp),COUNT(ORDERS.order_purchase_timestamp)\n",
    "              FROM ORDERS\n",
    "              GROUP BY WEEKDAY(ORDERS.order_purchase_timestamp)\n",
    "              ORDER BY WEEKDAY(ORDERS.order_purchase_timestamp) ASC\n",
    "              \"\"\"\n",
    "\n",
    "db_cursor.execute(eigth_query)\n",
    "\n",
    "num_of_orders = db_cursor.fetchall()\n",
    "\n",
    "\n",
    "print(num_of_orders)\n",
    "\n",
    "\n",
    "weekdays,num_ord = map(list, zip (*num_of_orders))\n",
    "\n",
    "fig = plt.figure(figsize=(12,6))\n",
    "ax = fig.add_axes([0,0,1,1])\n",
    "ax.bar(weekdays,num_ord)\n",
    "\n",
    "plt.xlabel(\" - Days of Week - \") #Giving name to the x axis\n",
    "plt.ylabel(\" - Number of Orders - \") #Giving name to the y axis \n",
    "plt.title(\" - Number of Orders for each day in a week - \",loc='left') #Giving title to the graph\n",
    "\n",
    "plt.setp(ax.get_xticklabels(),rotation=30,horizontalalignment='right')\n",
    "plt.show() #for displaying the graph\n",
    "\n"
   ]
  },
  {
   "cell_type": "code",
   "execution_count": null,
   "metadata": {},
   "outputs": [],
   "source": [
    "\n",
    "db_cursor.close()\n",
    "db_connection.close()"
   ]
  },
  {
   "cell_type": "code",
   "execution_count": null,
   "metadata": {},
   "outputs": [],
   "source": []
  },
  {
   "cell_type": "code",
   "execution_count": null,
   "metadata": {},
   "outputs": [],
   "source": []
  },
  {
   "cell_type": "code",
   "execution_count": null,
   "metadata": {},
   "outputs": [],
   "source": []
  },
  {
   "cell_type": "code",
   "execution_count": null,
   "metadata": {},
   "outputs": [],
   "source": []
  }
 ],
 "metadata": {
  "kernelspec": {
   "display_name": "Python 3 (ipykernel)",
   "language": "python",
   "name": "python3"
  },
  "language_info": {
   "codemirror_mode": {
    "name": "ipython",
    "version": 3
   },
   "file_extension": ".py",
   "mimetype": "text/x-python",
   "name": "python",
   "nbconvert_exporter": "python",
   "pygments_lexer": "ipython3",
   "version": "3.9.7"
  }
 },
 "nbformat": 4,
 "nbformat_minor": 4
}
